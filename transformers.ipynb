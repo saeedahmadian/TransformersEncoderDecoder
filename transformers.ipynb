{
 "cells": [
  {
   "cell_type": "code",
   "execution_count": 1,
   "id": "66cf983b",
   "metadata": {},
   "outputs": [],
   "source": [
    "from transformers import AutoTokenizer"
   ]
  },
  {
   "cell_type": "code",
   "execution_count": 2,
   "id": "60513b65",
   "metadata": {},
   "outputs": [],
   "source": [
    "from datasets import load_metric"
   ]
  },
  {
   "cell_type": "code",
   "execution_count": 3,
   "id": "599be457",
   "metadata": {},
   "outputs": [],
   "source": [
    "metric = load_metric(\"rouge\")"
   ]
  },
  {
   "cell_type": "code",
   "execution_count": 5,
   "id": "3d2ce9b6",
   "metadata": {},
   "outputs": [],
   "source": [
    "results= metric.compute(predictions='Saeed is going to Microsoft soon and he will be the best    ',references='Saba has already gone to Microsoft and she will be boss soon')"
   ]
  },
  {
   "cell_type": "code",
   "execution_count": 7,
   "id": "ce5719ae",
   "metadata": {},
   "outputs": [
    {
     "data": {
      "text/plain": [
       "AggregateScore(low=Score(precision=0.016666666666666666, recall=0.016666666666666666, fmeasure=0.016666666666666666), mid=Score(precision=0.08333333333333333, recall=0.08333333333333333, fmeasure=0.08333333333333333), high=Score(precision=0.16666666666666666, recall=0.16666666666666666, fmeasure=0.16666666666666666))"
      ]
     },
     "execution_count": 7,
     "metadata": {},
     "output_type": "execute_result"
    }
   ],
   "source": [
    "results['rougeL']"
   ]
  },
  {
   "cell_type": "code",
   "execution_count": null,
   "id": "5fd52900",
   "metadata": {},
   "outputs": [],
   "source": []
  }
 ],
 "metadata": {
  "kernelspec": {
   "display_name": "Python 3 (ipykernel)",
   "language": "python",
   "name": "python3"
  },
  "language_info": {
   "codemirror_mode": {
    "name": "ipython",
    "version": 3
   },
   "file_extension": ".py",
   "mimetype": "text/x-python",
   "name": "python",
   "nbconvert_exporter": "python",
   "pygments_lexer": "ipython3",
   "version": "3.7.11"
  }
 },
 "nbformat": 4,
 "nbformat_minor": 5
}
